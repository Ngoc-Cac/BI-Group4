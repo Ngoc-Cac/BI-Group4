{
 "cells": [
  {
   "cell_type": "code",
   "execution_count": null,
   "id": "e0be0ec4",
   "metadata": {},
   "outputs": [
    {
     "data": {
      "text/plain": [
       "<torch._C.Generator at 0x7874cc1b9bb0>"
      ]
     },
     "execution_count": 1,
     "metadata": {},
     "output_type": "execute_result"
    }
   ],
   "source": [
    "import torch\n",
    "import pandas as pd\n",
    "\n",
    "from torch import nn\n",
    "from torch.utils.data import DataLoader\n",
    "\n",
    "from utils.dataset import MovieDataset\n",
    "from utils.models import MLPRegressor\n",
    "\n",
    "\n",
    "torch.manual_seed(4)"
   ]
  },
  {
   "cell_type": "markdown",
   "id": "e350ec93",
   "metadata": {},
   "source": [
    "# Set up"
   ]
  },
  {
   "cell_type": "code",
   "execution_count": null,
   "id": "51c6a1f2",
   "metadata": {},
   "outputs": [],
   "source": [
    "from utils.loops import train_loop, eval_loop\n",
    "\n",
    "def run_epochs(\n",
    "    epochs: int,\n",
    "    model, loss_fn,\n",
    "    optimizer, train_loader,\n",
    "    test_loader,\n",
    "    use_gpu: bool = False\n",
    "):\n",
    "    epoch_loss = {\n",
    "        'train': [],\n",
    "        'eval': []\n",
    "    }\n",
    "    for epoch in range(epochs):\n",
    "        print(f\"Epoch {epoch}\")\n",
    "        losses = train_loop(model, loss_fn,\n",
    "            optimizer, train_loader,\n",
    "            use_gpu\n",
    "        )\n",
    "\n",
    "        print(f\"  Train loss: {sum(losses) / len(losses)}\")\n",
    "        eval_losses = eval_loop(model,\n",
    "            loss_fn, test_loader,\n",
    "            use_gpu\n",
    "        )\n",
    "\n",
    "        print(f\"  Eval loss: {sum(eval_losses) / len(eval_losses)}\\n\")\n",
    "\n",
    "        epoch_loss['train'].append(losses)\n",
    "        epoch_loss['eval'].append(eval_losses)\n",
    "    return epoch_loss"
   ]
  },
  {
   "cell_type": "markdown",
   "id": "0a5bdd6c",
   "metadata": {},
   "source": [
    "# Load Data and model"
   ]
  },
  {
   "cell_type": "code",
   "execution_count": null,
   "id": "d70c9463",
   "metadata": {},
   "outputs": [],
   "source": [
    "dfs = [\n",
    "    pd.read_csv('../dataset/train_data/train_data.csv', index_col=0),\n",
    "    pd.read_csv('../dataset/train_data/test_data.csv', index_col=0),\n",
    "]\n",
    "\n",
    "train_data = MovieDataset(dfs[0])\n",
    "test_data = MovieDataset(dfs[1])"
   ]
  },
  {
   "cell_type": "code",
   "execution_count": null,
   "id": "8cb9902d",
   "metadata": {},
   "outputs": [],
   "source": [
    "batch_size = 16\n",
    "\n",
    "train_loader = DataLoader(train_data, batch_size=batch_size, shuffle=True)\n",
    "test_loader = DataLoader(test_data, batch_size=batch_size, shuffle=True)"
   ]
  },
  {
   "cell_type": "code",
   "execution_count": null,
   "id": "4be4dbdc",
   "metadata": {},
   "outputs": [],
   "source": [
    "mlp_model = MLPRegressor(768 + train_data[0][0].shape[0])\n",
    "mse_loss = nn.MSELoss()\n",
    "adam_opt = torch.optim.Adam(mlp_model.parameters(), lr=1e-5)"
   ]
  },
  {
   "cell_type": "markdown",
   "id": "b4e27027",
   "metadata": {},
   "source": [
    "# Training"
   ]
  },
  {
   "cell_type": "code",
   "execution_count": null,
   "id": "e038d2dd",
   "metadata": {},
   "outputs": [],
   "source": [
    "epochs = 50\n",
    "global_loss = {\n",
    "    'train': [],\n",
    "    'eval': []\n",
    "}\n",
    "gpu_avail = torch.cuda.is_available()\n",
    "if gpu_avail: mlp_model.cuda()"
   ]
  },
  {
   "cell_type": "code",
   "execution_count": null,
   "id": "644eca89",
   "metadata": {},
   "outputs": [
    {
     "name": "stdout",
     "output_type": "stream",
     "text": [
      "Epoch 0\n"
     ]
    },
    {
     "name": "stderr",
     "output_type": "stream",
     "text": [
      "100%|██████████| 50/50 [00:04<00:00, 12.39it/s, Loss: 0.03346648067235947]\n"
     ]
    },
    {
     "name": "stdout",
     "output_type": "stream",
     "text": [
      "  Train loss: 0.05212854068726301\n",
      "  Eval loss: 0.09636139353880516\n",
      "\n",
      "Epoch 1\n"
     ]
    },
    {
     "name": "stderr",
     "output_type": "stream",
     "text": [
      "100%|██████████| 50/50 [00:03<00:00, 12.61it/s, Loss: 0.06619744747877121]\n"
     ]
    },
    {
     "name": "stdout",
     "output_type": "stream",
     "text": [
      "  Train loss: 0.04792853131890297\n",
      "  Eval loss: 0.09076187673669595\n",
      "\n",
      "Epoch 2\n"
     ]
    },
    {
     "name": "stderr",
     "output_type": "stream",
     "text": [
      "100%|██████████| 50/50 [00:03<00:00, 12.71it/s, Loss: 0.07910555601119995]\n"
     ]
    },
    {
     "name": "stdout",
     "output_type": "stream",
     "text": [
      "  Train loss: 0.051122233644127844\n",
      "  Eval loss: 0.1096828356385231\n",
      "\n",
      "Epoch 3\n"
     ]
    },
    {
     "name": "stderr",
     "output_type": "stream",
     "text": [
      "100%|██████████| 50/50 [00:03<00:00, 12.61it/s, Loss: 0.0339018888771534]\n"
     ]
    },
    {
     "name": "stdout",
     "output_type": "stream",
     "text": [
      "  Train loss: 0.054338312074542046\n",
      "  Eval loss: 0.09131740320187348\n",
      "\n",
      "Epoch 4\n"
     ]
    },
    {
     "name": "stderr",
     "output_type": "stream",
     "text": [
      "100%|██████████| 50/50 [00:04<00:00, 12.42it/s, Loss: 0.014451084658503532]\n"
     ]
    },
    {
     "name": "stdout",
     "output_type": "stream",
     "text": [
      "  Train loss: 0.060371332429349424\n",
      "  Eval loss: 0.08631195815709922\n",
      "\n",
      "Epoch 5\n"
     ]
    },
    {
     "name": "stderr",
     "output_type": "stream",
     "text": [
      "100%|██████████| 50/50 [00:04<00:00, 12.21it/s, Loss: 0.07646192610263824]\n"
     ]
    },
    {
     "name": "stdout",
     "output_type": "stream",
     "text": [
      "  Train loss: 0.04840488687157631\n",
      "  Eval loss: 0.09845162068422024\n",
      "\n",
      "Epoch 6\n"
     ]
    },
    {
     "name": "stderr",
     "output_type": "stream",
     "text": [
      "100%|██████████| 50/50 [00:03<00:00, 12.50it/s, Loss: 0.04035523906350136]\n"
     ]
    },
    {
     "name": "stdout",
     "output_type": "stream",
     "text": [
      "  Train loss: 0.05157314229756594\n",
      "  Eval loss: 0.10105746239423752\n",
      "\n",
      "Epoch 7\n"
     ]
    },
    {
     "name": "stderr",
     "output_type": "stream",
     "text": [
      "100%|██████████| 50/50 [00:04<00:00, 12.31it/s, Loss: 0.027699995785951614]\n"
     ]
    },
    {
     "name": "stdout",
     "output_type": "stream",
     "text": [
      "  Train loss: 0.052658123783767226\n",
      "  Eval loss: 0.09079799256645717\n",
      "\n",
      "Epoch 8\n"
     ]
    },
    {
     "name": "stderr",
     "output_type": "stream",
     "text": [
      "100%|██████████| 50/50 [00:04<00:00, 12.17it/s, Loss: 0.039561230689287186]\n"
     ]
    },
    {
     "name": "stdout",
     "output_type": "stream",
     "text": [
      "  Train loss: 0.04475411467254162\n",
      "  Eval loss: 0.08566596645575303\n",
      "\n",
      "Epoch 9\n"
     ]
    },
    {
     "name": "stderr",
     "output_type": "stream",
     "text": [
      "100%|██████████| 50/50 [00:03<00:00, 12.59it/s, Loss: 0.009834627620875835]\n"
     ]
    },
    {
     "name": "stdout",
     "output_type": "stream",
     "text": [
      "  Train loss: 0.04725480545312166\n",
      "  Eval loss: 0.08627391033447705\n",
      "\n",
      "Epoch 10\n"
     ]
    },
    {
     "name": "stderr",
     "output_type": "stream",
     "text": [
      "100%|██████████| 50/50 [00:04<00:00, 12.50it/s, Loss: 0.01837318018078804]\n"
     ]
    },
    {
     "name": "stdout",
     "output_type": "stream",
     "text": [
      "  Train loss: 0.04428924774751067\n",
      "  Eval loss: 0.09532363884724103\n",
      "\n",
      "Epoch 11\n"
     ]
    },
    {
     "name": "stderr",
     "output_type": "stream",
     "text": [
      "100%|██████████| 50/50 [00:04<00:00, 12.42it/s, Loss: 0.03904624283313751]\n"
     ]
    },
    {
     "name": "stdout",
     "output_type": "stream",
     "text": [
      "  Train loss: 0.047105154432356355\n",
      "  Eval loss: 0.08689945219801022\n",
      "\n",
      "Epoch 12\n"
     ]
    },
    {
     "name": "stderr",
     "output_type": "stream",
     "text": [
      "100%|██████████| 50/50 [00:03<00:00, 12.72it/s, Loss: 0.02366703562438488]\n"
     ]
    },
    {
     "name": "stdout",
     "output_type": "stream",
     "text": [
      "  Train loss: 0.04960560977458954\n",
      "  Eval loss: 0.09048122597428468\n",
      "\n",
      "Epoch 13\n"
     ]
    },
    {
     "name": "stderr",
     "output_type": "stream",
     "text": [
      "100%|██████████| 50/50 [00:03<00:00, 12.92it/s, Loss: 0.07840591669082642]\n"
     ]
    },
    {
     "name": "stdout",
     "output_type": "stream",
     "text": [
      "  Train loss: 0.06093454023823142\n",
      "  Eval loss: 0.11010135280398223\n",
      "\n",
      "Epoch 14\n"
     ]
    },
    {
     "name": "stderr",
     "output_type": "stream",
     "text": [
      "100%|██████████| 50/50 [00:03<00:00, 12.60it/s, Loss: 0.0685136541724205]\n"
     ]
    },
    {
     "name": "stdout",
     "output_type": "stream",
     "text": [
      "  Train loss: 0.04499671183526516\n",
      "  Eval loss: 0.08870846405625343\n",
      "\n",
      "Epoch 15\n"
     ]
    },
    {
     "name": "stderr",
     "output_type": "stream",
     "text": [
      "100%|██████████| 50/50 [00:03<00:00, 12.68it/s, Loss: 0.03914574906229973]\n"
     ]
    },
    {
     "name": "stdout",
     "output_type": "stream",
     "text": [
      "  Train loss: 0.04480085203424096\n",
      "  Eval loss: 0.10541347356942984\n",
      "\n",
      "Epoch 16\n"
     ]
    },
    {
     "name": "stderr",
     "output_type": "stream",
     "text": [
      "100%|██████████| 50/50 [00:03<00:00, 12.59it/s, Loss: 0.05366773530840874]\n"
     ]
    },
    {
     "name": "stdout",
     "output_type": "stream",
     "text": [
      "  Train loss: 0.04840032709762454\n",
      "  Eval loss: 0.08266546605871274\n",
      "\n",
      "Epoch 17\n"
     ]
    },
    {
     "name": "stderr",
     "output_type": "stream",
     "text": [
      "100%|██████████| 50/50 [00:03<00:00, 12.78it/s, Loss: 0.07155204564332962]\n"
     ]
    },
    {
     "name": "stdout",
     "output_type": "stream",
     "text": [
      "  Train loss: 0.04628946911543608\n",
      "  Eval loss: 0.11116730249845065\n",
      "\n",
      "Epoch 18\n"
     ]
    },
    {
     "name": "stderr",
     "output_type": "stream",
     "text": [
      "100%|██████████| 50/50 [00:03<00:00, 12.67it/s, Loss: 0.0649590790271759]\n"
     ]
    },
    {
     "name": "stdout",
     "output_type": "stream",
     "text": [
      "  Train loss: 0.04476303881034255\n",
      "  Eval loss: 0.10549700202850196\n",
      "\n",
      "Epoch 19\n"
     ]
    },
    {
     "name": "stderr",
     "output_type": "stream",
     "text": [
      "100%|██████████| 50/50 [00:03<00:00, 12.75it/s, Loss: 0.05760617181658745]\n"
     ]
    },
    {
     "name": "stdout",
     "output_type": "stream",
     "text": [
      "  Train loss: 0.048613937608897685\n",
      "  Eval loss: 0.09478781916774236\n",
      "\n",
      "Epoch 20\n"
     ]
    },
    {
     "name": "stderr",
     "output_type": "stream",
     "text": [
      "100%|██████████| 50/50 [00:03<00:00, 12.71it/s, Loss: 0.0534902848303318]\n"
     ]
    },
    {
     "name": "stdout",
     "output_type": "stream",
     "text": [
      "  Train loss: 0.04815381318330765\n",
      "  Eval loss: 0.10611226638922325\n",
      "\n",
      "Epoch 21\n"
     ]
    },
    {
     "name": "stderr",
     "output_type": "stream",
     "text": [
      "100%|██████████| 50/50 [00:03<00:00, 12.74it/s, Loss: 0.04138102009892464]\n"
     ]
    },
    {
     "name": "stdout",
     "output_type": "stream",
     "text": [
      "  Train loss: 0.04616028130054474\n",
      "  Eval loss: 0.09678575539818177\n",
      "\n",
      "Epoch 22\n"
     ]
    },
    {
     "name": "stderr",
     "output_type": "stream",
     "text": [
      "100%|██████████| 50/50 [00:04<00:00, 12.45it/s, Loss: 0.07626799494028091]\n"
     ]
    },
    {
     "name": "stdout",
     "output_type": "stream",
     "text": [
      "  Train loss: 0.051266666185110804\n",
      "  Eval loss: 0.08302043836850387\n",
      "\n",
      "Epoch 23\n"
     ]
    },
    {
     "name": "stderr",
     "output_type": "stream",
     "text": [
      "100%|██████████| 50/50 [00:03<00:00, 12.67it/s, Loss: 0.020374756306409836]\n"
     ]
    },
    {
     "name": "stdout",
     "output_type": "stream",
     "text": [
      "  Train loss: 0.043138231765478846\n",
      "  Eval loss: 0.09333174045269306\n",
      "\n",
      "Epoch 24\n"
     ]
    },
    {
     "name": "stderr",
     "output_type": "stream",
     "text": [
      "100%|██████████| 50/50 [00:03<00:00, 12.62it/s, Loss: 0.027170080691576004]\n"
     ]
    },
    {
     "name": "stdout",
     "output_type": "stream",
     "text": [
      "  Train loss: 0.050264814719557765\n",
      "  Eval loss: 0.11479703165017642\n",
      "\n",
      "Epoch 25\n"
     ]
    },
    {
     "name": "stderr",
     "output_type": "stream",
     "text": [
      "100%|██████████| 50/50 [00:03<00:00, 12.50it/s, Loss: 0.02542712911963463]\n"
     ]
    },
    {
     "name": "stdout",
     "output_type": "stream",
     "text": [
      "  Train loss: 0.04569294136017561\n",
      "  Eval loss: 0.12798866715568763\n",
      "\n",
      "Epoch 26\n"
     ]
    },
    {
     "name": "stderr",
     "output_type": "stream",
     "text": [
      "100%|██████████| 50/50 [00:03<00:00, 12.57it/s, Loss: 0.04478331655263901]\n"
     ]
    },
    {
     "name": "stdout",
     "output_type": "stream",
     "text": [
      "  Train loss: 0.0426595713570714\n",
      "  Eval loss: 0.10115322241416344\n",
      "\n",
      "Epoch 27\n"
     ]
    },
    {
     "name": "stderr",
     "output_type": "stream",
     "text": [
      "100%|██████████| 50/50 [00:04<00:00, 12.43it/s, Loss: 0.06240316480398178]\n"
     ]
    },
    {
     "name": "stdout",
     "output_type": "stream",
     "text": [
      "  Train loss: 0.04587938675656915\n",
      "  Eval loss: 0.11893246953303997\n",
      "\n",
      "Epoch 28\n"
     ]
    },
    {
     "name": "stderr",
     "output_type": "stream",
     "text": [
      "100%|██████████| 50/50 [00:04<00:00, 12.38it/s, Loss: 0.024650219827890396]\n"
     ]
    },
    {
     "name": "stdout",
     "output_type": "stream",
     "text": [
      "  Train loss: 0.05020706199109554\n",
      "  Eval loss: 0.1193492105947091\n",
      "\n",
      "Epoch 29\n"
     ]
    },
    {
     "name": "stderr",
     "output_type": "stream",
     "text": [
      "100%|██████████| 50/50 [00:03<00:00, 12.56it/s, Loss: 0.04394979774951935]\n"
     ]
    },
    {
     "name": "stdout",
     "output_type": "stream",
     "text": [
      "  Train loss: 0.04638547521084547\n",
      "  Eval loss: 0.1028652758552478\n",
      "\n",
      "Epoch 30\n"
     ]
    },
    {
     "name": "stderr",
     "output_type": "stream",
     "text": [
      "100%|██████████| 50/50 [00:03<00:00, 12.75it/s, Loss: 0.054012324661016464]\n"
     ]
    },
    {
     "name": "stdout",
     "output_type": "stream",
     "text": [
      "  Train loss: 0.0414834800362587\n",
      "  Eval loss: 0.0972436643563784\n",
      "\n",
      "Epoch 31\n"
     ]
    },
    {
     "name": "stderr",
     "output_type": "stream",
     "text": [
      "100%|██████████| 50/50 [00:04<00:00, 12.38it/s, Loss: 0.03514214977622032]\n"
     ]
    },
    {
     "name": "stdout",
     "output_type": "stream",
     "text": [
      "  Train loss: 0.04201459802687168\n",
      "  Eval loss: 0.09432488593917626\n",
      "\n",
      "Epoch 32\n"
     ]
    },
    {
     "name": "stderr",
     "output_type": "stream",
     "text": [
      "100%|██████████| 50/50 [00:04<00:00, 12.48it/s, Loss: 0.07182936370372772]\n"
     ]
    },
    {
     "name": "stdout",
     "output_type": "stream",
     "text": [
      "  Train loss: 0.04664737898856401\n",
      "  Eval loss: 0.12809016612859872\n",
      "\n",
      "Epoch 33\n"
     ]
    },
    {
     "name": "stderr",
     "output_type": "stream",
     "text": [
      "100%|██████████| 50/50 [00:04<00:00, 12.41it/s, Loss: 0.04952892288565636]\n"
     ]
    },
    {
     "name": "stdout",
     "output_type": "stream",
     "text": [
      "  Train loss: 0.04206200007349253\n",
      "  Eval loss: 0.08630526581635842\n",
      "\n",
      "Epoch 34\n"
     ]
    },
    {
     "name": "stderr",
     "output_type": "stream",
     "text": [
      "100%|██████████| 50/50 [00:03<00:00, 12.82it/s, Loss: 0.10071786493062973]\n"
     ]
    },
    {
     "name": "stdout",
     "output_type": "stream",
     "text": [
      "  Train loss: 0.0434749305807054\n",
      "  Eval loss: 0.09397184906097558\n",
      "\n",
      "Epoch 35\n"
     ]
    },
    {
     "name": "stderr",
     "output_type": "stream",
     "text": [
      "100%|██████████| 50/50 [00:03<00:00, 12.73it/s, Loss: 0.051824674010276794]\n"
     ]
    },
    {
     "name": "stdout",
     "output_type": "stream",
     "text": [
      "  Train loss: 0.044867959320545193\n",
      "  Eval loss: 0.0913562596990512\n",
      "\n",
      "Epoch 36\n"
     ]
    },
    {
     "name": "stderr",
     "output_type": "stream",
     "text": [
      "100%|██████████| 50/50 [00:04<00:00, 12.38it/s, Loss: 0.061442822217941284]\n"
     ]
    },
    {
     "name": "stdout",
     "output_type": "stream",
     "text": [
      "  Train loss: 0.04083044545724988\n",
      "  Eval loss: 0.10097079294232222\n",
      "\n",
      "Epoch 37\n"
     ]
    },
    {
     "name": "stderr",
     "output_type": "stream",
     "text": [
      "100%|██████████| 50/50 [00:03<00:00, 12.58it/s, Loss: 0.040753889828920364]\n"
     ]
    },
    {
     "name": "stdout",
     "output_type": "stream",
     "text": [
      "  Train loss: 0.040739934481680395\n",
      "  Eval loss: 0.08678620824447045\n",
      "\n",
      "Epoch 38\n"
     ]
    },
    {
     "name": "stderr",
     "output_type": "stream",
     "text": [
      "100%|██████████| 50/50 [00:03<00:00, 12.52it/s, Loss: 0.09395256638526917]\n"
     ]
    },
    {
     "name": "stdout",
     "output_type": "stream",
     "text": [
      "  Train loss: 0.046801917292177676\n",
      "  Eval loss: 0.09064543304535058\n",
      "\n",
      "Epoch 39\n"
     ]
    },
    {
     "name": "stderr",
     "output_type": "stream",
     "text": [
      "100%|██████████| 50/50 [00:03<00:00, 12.52it/s, Loss: 0.07467187941074371]\n"
     ]
    },
    {
     "name": "stdout",
     "output_type": "stream",
     "text": [
      "  Train loss: 0.05081451594829559\n",
      "  Eval loss: 0.09090395329090264\n",
      "\n",
      "Epoch 40\n"
     ]
    },
    {
     "name": "stderr",
     "output_type": "stream",
     "text": [
      "100%|██████████| 50/50 [00:03<00:00, 12.62it/s, Loss: 0.04437736049294472]\n"
     ]
    },
    {
     "name": "stdout",
     "output_type": "stream",
     "text": [
      "  Train loss: 0.03935427321121097\n",
      "  Eval loss: 0.09532796304959518\n",
      "\n",
      "Epoch 41\n"
     ]
    },
    {
     "name": "stderr",
     "output_type": "stream",
     "text": [
      "100%|██████████| 50/50 [00:03<00:00, 12.66it/s, Loss: 0.05124270170927048]\n"
     ]
    },
    {
     "name": "stdout",
     "output_type": "stream",
     "text": [
      "  Train loss: 0.04023961128666997\n",
      "  Eval loss: 0.11585494875907898\n",
      "\n",
      "Epoch 42\n"
     ]
    },
    {
     "name": "stderr",
     "output_type": "stream",
     "text": [
      "100%|██████████| 50/50 [00:04<00:00, 12.31it/s, Loss: 0.014723419211804867]\n"
     ]
    },
    {
     "name": "stdout",
     "output_type": "stream",
     "text": [
      "  Train loss: 0.04354393506422639\n",
      "  Eval loss: 0.08894222516279954\n",
      "\n",
      "Epoch 43\n"
     ]
    },
    {
     "name": "stderr",
     "output_type": "stream",
     "text": [
      "100%|██████████| 50/50 [00:03<00:00, 12.53it/s, Loss: 0.07255519926548004]\n"
     ]
    },
    {
     "name": "stdout",
     "output_type": "stream",
     "text": [
      "  Train loss: 0.04348747491836548\n",
      "  Eval loss: 0.09030155722911541\n",
      "\n",
      "Epoch 44\n"
     ]
    },
    {
     "name": "stderr",
     "output_type": "stream",
     "text": [
      "100%|██████████| 50/50 [00:03<00:00, 12.57it/s, Loss: 0.07559427618980408]\n"
     ]
    },
    {
     "name": "stdout",
     "output_type": "stream",
     "text": [
      "  Train loss: 0.04642968438565731\n",
      "  Eval loss: 0.09194830862375405\n",
      "\n",
      "Epoch 45\n"
     ]
    },
    {
     "name": "stderr",
     "output_type": "stream",
     "text": [
      "100%|██████████| 50/50 [00:03<00:00, 12.76it/s, Loss: 0.04948911443352699]\n"
     ]
    },
    {
     "name": "stdout",
     "output_type": "stream",
     "text": [
      "  Train loss: 0.04170182878151536\n",
      "  Eval loss: 0.09148926545794193\n",
      "\n",
      "Epoch 46\n"
     ]
    },
    {
     "name": "stderr",
     "output_type": "stream",
     "text": [
      "100%|██████████| 50/50 [00:03<00:00, 12.86it/s, Loss: 0.0926123857498169]\n"
     ]
    },
    {
     "name": "stdout",
     "output_type": "stream",
     "text": [
      "  Train loss: 0.04552016027271748\n",
      "  Eval loss: 0.08297410578681873\n",
      "\n",
      "Epoch 47\n"
     ]
    },
    {
     "name": "stderr",
     "output_type": "stream",
     "text": [
      "100%|██████████| 50/50 [00:04<00:00, 12.45it/s, Loss: 0.0211094431579113]\n"
     ]
    },
    {
     "name": "stdout",
     "output_type": "stream",
     "text": [
      "  Train loss: 0.04802835082635284\n",
      "  Eval loss: 0.09691144783909504\n",
      "\n",
      "Epoch 48\n"
     ]
    },
    {
     "name": "stderr",
     "output_type": "stream",
     "text": [
      "100%|██████████| 50/50 [00:04<00:00, 12.47it/s, Loss: 0.09414871782064438]\n"
     ]
    },
    {
     "name": "stdout",
     "output_type": "stream",
     "text": [
      "  Train loss: 0.049639930985867976\n",
      "  Eval loss: 0.09306176751852036\n",
      "\n",
      "Epoch 49\n"
     ]
    },
    {
     "name": "stderr",
     "output_type": "stream",
     "text": [
      "100%|██████████| 50/50 [00:03<00:00, 12.62it/s, Loss: 0.054448604583740234]\n"
     ]
    },
    {
     "name": "stdout",
     "output_type": "stream",
     "text": [
      "  Train loss: 0.05233952391892672\n",
      "  Eval loss: 0.08975385817197654\n",
      "\n"
     ]
    }
   ],
   "source": [
    "loss = run_epochs(\n",
    "    epochs, mlp_model,\n",
    "    mse_loss, adam_opt,\n",
    "    train_loader, test_loader,\n",
    "    gpu_avail\n",
    ")\n",
    "\n",
    "global_loss['train'].extend(loss['train'])\n",
    "global_loss['eval'].extend(loss['eval'])"
   ]
  },
  {
   "cell_type": "code",
   "execution_count": null,
   "id": "396f61c4",
   "metadata": {},
   "outputs": [
    {
     "data": {
      "image/png": "[encoded data removed]",
      "text/plain": [
       "<Figure size 640x480 with 1 Axes>"
      ]
     },
     "metadata": {},
     "output_type": "display_data"
    }
   ],
   "source": [
    "import matplotlib.pyplot as plt\n",
    "\n",
    "plt.title('Learning rate: 1e-5')\n",
    "plt.plot([sum(loss) / len(loss) for loss in global_loss['train']], label='train')\n",
    "plt.plot([sum(loss) / len(loss) for loss in global_loss['eval']], label='eval')\n",
    "plt.xlabel('Epoch')\n",
    "plt.ylabel('MSE Loss')\n",
    "plt.legend();"
   ]
  },
  {
   "cell_type": "code",
   "execution_count": null,
   "id": "c05ae34c",
   "metadata": {},
   "outputs": [],
   "source": [
    "checkpoint = {\n",
    "    'model': mlp_model.state_dict(),\n",
    "    'optimizer': adam_opt.state_dict(),\n",
    "    'loss': global_loss,\n",
    "    'batch_size': batch_size,\n",
    "    'lr': 1e-5\n",
    "}\n",
    "\n",
    "torch.save(checkpoint, '../model_checkpoints/mlp_model_cp3.tar')"
   ]
  }
 ],
 "metadata": {
  "kernelspec": {
   "display_name": ".env_bi",
   "language": "python",
   "name": "python3"
  },
  "language_info": {
   "name": "python",
   "version": "3.13.2"
  }
 },
 "nbformat": 4,
 "nbformat_minor": 5
}
