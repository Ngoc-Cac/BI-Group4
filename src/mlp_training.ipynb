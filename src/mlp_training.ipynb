{
  "cells": [
    {
      "cell_type": "code",
      "execution_count": 1,
      "id": "f49c9a1a",
      "metadata": {
        "colab": {
          "base_uri": "https://localhost:8080/"
        },
        "id": "f49c9a1a",
        "outputId": "1d8a018a-a49d-4768-a359-e5576cc835a9"
      },
      "outputs": [
        {
          "data": {
            "text/plain": [
              "<torch._C.Generator at 0x7c567a128830>"
            ]
          },
          "execution_count": 1,
          "metadata": {},
          "output_type": "execute_result"
        }
      ],
      "source": [
        "import torch\n",
        "import pandas as pd\n",
        "\n",
        "from torch import nn\n",
        "from torch.utils.data import DataLoader\n",
        "\n",
        "from utils.dataset import MovieDataset\n",
        "from utils.models import MLPClassifier\n",
        "\n",
        "\n",
        "torch.manual_seed(4)"
      ]
    },
    {
      "cell_type": "markdown",
      "id": "PL7en16R0M1A",
      "metadata": {
        "id": "PL7en16R0M1A"
      },
      "source": [
        "# Set up"
      ]
    },
    {
      "cell_type": "code",
      "execution_count": 11,
      "id": "90f53d61",
      "metadata": {
        "id": "90f53d61"
      },
      "outputs": [],
      "source": [
        "from utils.loops import train_loop, eval_loop\n",
        "\n",
        "def run_epochs(\n",
        "    epochs: int,\n",
        "    model, loss_fn,\n",
        "    optimizer, train_loader,\n",
        "    test_loader,\n",
        "    use_gpu: bool = False\n",
        "):\n",
        "    epoch_loss = {\n",
        "        'train': [],\n",
        "        'eval': []\n",
        "    }\n",
        "    for epoch in range(epochs):\n",
        "        print(f\"Epoch {epoch}\")\n",
        "        losses = train_loop(model, loss_fn,\n",
        "            optimizer, train_loader,\n",
        "            use_gpu\n",
        "        )\n",
        "\n",
        "        print(f\"  Train loss: {sum(losses) / len(losses)}\")\n",
        "        eval_losses = eval_loop(model,\n",
        "            loss_fn, test_loader,\n",
        "            use_gpu\n",
        "        )\n",
        "\n",
        "        print(f\"  Eval loss: {sum(eval_losses) / len(eval_losses)}\\n\")\n",
        "\n",
        "        epoch_loss['train'].append(losses)\n",
        "        epoch_loss['eval'].append(eval_losses)\n",
        "    return epoch_loss"
      ]
    },
    {
      "cell_type": "markdown",
      "id": "B1A2UGlv0PZY",
      "metadata": {
        "id": "B1A2UGlv0PZY"
      },
      "source": [
        "# Load Data and model"
      ]
    },
    {
      "cell_type": "code",
      "execution_count": null,
      "id": "bba23353",
      "metadata": {
        "id": "bba23353"
      },
      "outputs": [],
      "source": [
        "dfs = [\n",
        "    pd.read_csv('../dataset/train_data/train_data.csv', index_col=0),\n",
        "    pd.read_csv('../dataset/train_data/test_data.csv', index_col=0),\n",
        "]\n",
        "\n",
        "train_data = MovieDataset(dfs[0])\n",
        "test_data = MovieDataset(dfs[1])"
      ]
    },
    {
      "cell_type": "code",
      "execution_count": 13,
      "id": "TEl4hg7u0bij",
      "metadata": {
        "id": "TEl4hg7u0bij"
      },
      "outputs": [],
      "source": [
        "batch_size = 16\n",
        "\n",
        "train_loader = DataLoader(train_data, batch_size=batch_size, shuffle=True)\n",
        "test_loader = DataLoader(test_data, batch_size=batch_size, shuffle=True)"
      ]
    },
    {
      "cell_type": "code",
      "execution_count": 14,
      "id": "JjsTe4Cc0qdO",
      "metadata": {
        "id": "JjsTe4Cc0qdO"
      },
      "outputs": [],
      "source": [
        "mlp_model = MLPClassifier(768 + train_data[0][0].shape[0])\n",
        "mse_loss = nn.MSELoss()\n",
        "adam_opt = torch.optim.Adam(mlp_model.parameters(), lr=1e-5)"
      ]
    },
    {
      "cell_type": "markdown",
      "id": "RgW3Gbf20wke",
      "metadata": {
        "id": "RgW3Gbf20wke"
      },
      "source": [
        "# Training"
      ]
    },
    {
      "cell_type": "code",
      "execution_count": 15,
      "id": "Z7YAr3SI2EEi",
      "metadata": {
        "id": "Z7YAr3SI2EEi"
      },
      "outputs": [],
      "source": [
        "epochs = 50\n",
        "global_loss = {\n",
        "    'train': [],\n",
        "    'eval': []\n",
        "}\n",
        "gpu_avail = torch.cuda.is_available()\n",
        "if gpu_avail: mlp_model.cuda()"
      ]
    },
    {
      "cell_type": "code",
      "execution_count": 25,
      "id": "7d11_x9t0xqY",
      "metadata": {
        "colab": {
          "base_uri": "https://localhost:8080/"
        },
        "id": "7d11_x9t0xqY",
        "outputId": "c5a27a27-34ce-489d-e68f-d8a84481f197"
      },
      "outputs": [
        {
          "name": "stdout",
          "output_type": "stream",
          "text": [
            "Epoch 0\n"
          ]
        },
        {
          "name": "stderr",
          "output_type": "stream",
          "text": [
            "100%|██████████| 50/50 [00:04<00:00, 12.37it/s, Loss: 0.034244850277900696]\n"
          ]
        },
        {
          "name": "stdout",
          "output_type": "stream",
          "text": [
            "  Train loss: 0.059836446717381475\n",
            "  Eval loss: 0.1393874270411638\n",
            "\n",
            "Epoch 1\n"
          ]
        },
        {
          "name": "stderr",
          "output_type": "stream",
          "text": [
            "100%|██████████| 50/50 [00:04<00:00, 11.86it/s, Loss: 0.058887798339128494]\n"
          ]
        },
        {
          "name": "stdout",
          "output_type": "stream",
          "text": [
            "  Train loss: 0.05652341961860657\n",
            "  Eval loss: 0.10090537655812043\n",
            "\n",
            "Epoch 2\n"
          ]
        },
        {
          "name": "stderr",
          "output_type": "stream",
          "text": [
            "100%|██████████| 50/50 [00:04<00:00, 12.23it/s, Loss: 0.05267039313912392]\n"
          ]
        },
        {
          "name": "stdout",
          "output_type": "stream",
          "text": [
            "  Train loss: 0.057236576601862904\n",
            "  Eval loss: 0.08670323284772727\n",
            "\n",
            "Epoch 3\n"
          ]
        },
        {
          "name": "stderr",
          "output_type": "stream",
          "text": [
            "100%|██████████| 50/50 [00:04<00:00, 12.30it/s, Loss: 0.07225903123617172]\n"
          ]
        },
        {
          "name": "stdout",
          "output_type": "stream",
          "text": [
            "  Train loss: 0.05576267223805189\n",
            "  Eval loss: 0.09478325855273467\n",
            "\n",
            "Epoch 4\n"
          ]
        },
        {
          "name": "stderr",
          "output_type": "stream",
          "text": [
            "100%|██████████| 50/50 [00:04<00:00, 12.21it/s, Loss: 0.05098506063222885]\n"
          ]
        },
        {
          "name": "stdout",
          "output_type": "stream",
          "text": [
            "  Train loss: 0.05728974096477032\n",
            "  Eval loss: 0.14400021158731902\n",
            "\n",
            "Epoch 5\n"
          ]
        },
        {
          "name": "stderr",
          "output_type": "stream",
          "text": [
            "100%|██████████| 50/50 [00:04<00:00, 12.30it/s, Loss: 0.03887291997671127]\n"
          ]
        },
        {
          "name": "stdout",
          "output_type": "stream",
          "text": [
            "  Train loss: 0.059712219201028344\n",
            "  Eval loss: 0.0652420985010954\n",
            "\n",
            "Epoch 6\n"
          ]
        },
        {
          "name": "stderr",
          "output_type": "stream",
          "text": [
            "100%|██████████| 50/50 [00:04<00:00, 12.20it/s, Loss: 0.057218994945287704]\n"
          ]
        },
        {
          "name": "stdout",
          "output_type": "stream",
          "text": [
            "  Train loss: 0.057740143798291683\n",
            "  Eval loss: 0.09065087712728061\n",
            "\n",
            "Epoch 7\n"
          ]
        },
        {
          "name": "stderr",
          "output_type": "stream",
          "text": [
            "100%|██████████| 50/50 [00:04<00:00, 12.12it/s, Loss: 0.04890837520360947]\n"
          ]
        },
        {
          "name": "stdout",
          "output_type": "stream",
          "text": [
            "  Train loss: 0.0613102475553751\n",
            "  Eval loss: 0.11637630199010555\n",
            "\n",
            "Epoch 8\n"
          ]
        },
        {
          "name": "stderr",
          "output_type": "stream",
          "text": [
            "100%|██████████| 50/50 [00:04<00:00, 12.10it/s, Loss: 0.07819420844316483]\n"
          ]
        },
        {
          "name": "stdout",
          "output_type": "stream",
          "text": [
            "  Train loss: 0.05802607078105211\n",
            "  Eval loss: 0.08108244119928433\n",
            "\n",
            "Epoch 9\n"
          ]
        },
        {
          "name": "stderr",
          "output_type": "stream",
          "text": [
            "100%|██████████| 50/50 [00:04<00:00, 11.99it/s, Loss: 0.06606276333332062]\n"
          ]
        },
        {
          "name": "stdout",
          "output_type": "stream",
          "text": [
            "  Train loss: 0.056232524402439595\n",
            "  Eval loss: 0.22875722096516535\n",
            "\n",
            "Epoch 10\n"
          ]
        },
        {
          "name": "stderr",
          "output_type": "stream",
          "text": [
            "100%|██████████| 50/50 [00:04<00:00, 12.05it/s, Loss: 0.07402695715427399]\n"
          ]
        },
        {
          "name": "stdout",
          "output_type": "stream",
          "text": [
            "  Train loss: 0.06475750528275967\n",
            "  Eval loss: 0.24683874616256127\n",
            "\n",
            "Epoch 11\n"
          ]
        },
        {
          "name": "stderr",
          "output_type": "stream",
          "text": [
            "100%|██████████| 50/50 [00:04<00:00, 11.91it/s, Loss: 0.04935386776924133]\n"
          ]
        },
        {
          "name": "stdout",
          "output_type": "stream",
          "text": [
            "  Train loss: 0.0577823955565691\n",
            "  Eval loss: 0.15314802470115516\n",
            "\n",
            "Epoch 12\n"
          ]
        },
        {
          "name": "stderr",
          "output_type": "stream",
          "text": [
            "100%|██████████| 50/50 [00:04<00:00, 12.04it/s, Loss: 0.07087957113981247]\n"
          ]
        },
        {
          "name": "stdout",
          "output_type": "stream",
          "text": [
            "  Train loss: 0.0630341849476099\n",
            "  Eval loss: 0.13555647977269614\n",
            "\n",
            "Epoch 13\n"
          ]
        },
        {
          "name": "stderr",
          "output_type": "stream",
          "text": [
            "100%|██████████| 50/50 [00:04<00:00, 12.15it/s, Loss: 0.0524800606071949]\n"
          ]
        },
        {
          "name": "stdout",
          "output_type": "stream",
          "text": [
            "  Train loss: 0.05851764857769012\n",
            "  Eval loss: 0.06780165462539746\n",
            "\n",
            "Epoch 14\n"
          ]
        },
        {
          "name": "stderr",
          "output_type": "stream",
          "text": [
            "100%|██████████| 50/50 [00:04<00:00, 12.11it/s, Loss: 0.02570108324289322]\n"
          ]
        },
        {
          "name": "stdout",
          "output_type": "stream",
          "text": [
            "  Train loss: 0.05356591537594795\n",
            "  Eval loss: 0.3186010821507527\n",
            "\n",
            "Epoch 15\n"
          ]
        },
        {
          "name": "stderr",
          "output_type": "stream",
          "text": [
            "100%|██████████| 50/50 [00:04<00:00, 12.21it/s, Loss: 0.045596640557050705]\n"
          ]
        },
        {
          "name": "stdout",
          "output_type": "stream",
          "text": [
            "  Train loss: 0.05888793870806694\n",
            "  Eval loss: 0.11745244608475612\n",
            "\n",
            "Epoch 16\n"
          ]
        },
        {
          "name": "stderr",
          "output_type": "stream",
          "text": [
            "100%|██████████| 50/50 [00:04<00:00, 12.12it/s, Loss: 0.06116817891597748]\n"
          ]
        },
        {
          "name": "stdout",
          "output_type": "stream",
          "text": [
            "  Train loss: 0.056356284730136395\n",
            "  Eval loss: 0.30229637714532703\n",
            "\n",
            "Epoch 17\n"
          ]
        },
        {
          "name": "stderr",
          "output_type": "stream",
          "text": [
            "100%|██████████| 50/50 [00:04<00:00, 12.08it/s, Loss: 0.03160820156335831]\n"
          ]
        },
        {
          "name": "stdout",
          "output_type": "stream",
          "text": [
            "  Train loss: 0.06235532458871603\n",
            "  Eval loss: 0.0834090205339285\n",
            "\n",
            "Epoch 18\n"
          ]
        },
        {
          "name": "stderr",
          "output_type": "stream",
          "text": [
            "100%|██████████| 50/50 [00:04<00:00, 12.23it/s, Loss: 0.06955762952566147]\n"
          ]
        },
        {
          "name": "stdout",
          "output_type": "stream",
          "text": [
            "  Train loss: 0.06152478642761707\n",
            "  Eval loss: 0.1478179429586117\n",
            "\n",
            "Epoch 19\n"
          ]
        },
        {
          "name": "stderr",
          "output_type": "stream",
          "text": [
            "100%|██████████| 50/50 [00:04<00:00, 12.06it/s, Loss: 0.05187118798494339]\n"
          ]
        },
        {
          "name": "stdout",
          "output_type": "stream",
          "text": [
            "  Train loss: 0.058766971342265606\n",
            "  Eval loss: 0.09706126153469086\n",
            "\n",
            "Epoch 20\n"
          ]
        },
        {
          "name": "stderr",
          "output_type": "stream",
          "text": [
            "100%|██████████| 50/50 [00:04<00:00, 12.17it/s, Loss: 0.05815704166889191]\n"
          ]
        },
        {
          "name": "stdout",
          "output_type": "stream",
          "text": [
            "  Train loss: 0.056832940354943275\n",
            "  Eval loss: 0.052079256337422594\n",
            "\n",
            "Epoch 21\n"
          ]
        },
        {
          "name": "stderr",
          "output_type": "stream",
          "text": [
            "100%|██████████| 50/50 [00:04<00:00, 12.36it/s, Loss: 0.1240413561463356]\n"
          ]
        },
        {
          "name": "stdout",
          "output_type": "stream",
          "text": [
            "  Train loss: 0.061108984835445884\n",
            "  Eval loss: 0.08980846147124584\n",
            "\n",
            "Epoch 22\n"
          ]
        },
        {
          "name": "stderr",
          "output_type": "stream",
          "text": [
            "100%|██████████| 50/50 [00:04<00:00, 11.91it/s, Loss: 0.03059696964919567]\n"
          ]
        },
        {
          "name": "stdout",
          "output_type": "stream",
          "text": [
            "  Train loss: 0.06557616416364909\n",
            "  Eval loss: 0.07570873487454194\n",
            "\n",
            "Epoch 23\n"
          ]
        },
        {
          "name": "stderr",
          "output_type": "stream",
          "text": [
            "100%|██████████| 50/50 [00:04<00:00, 11.97it/s, Loss: 0.051777325570583344]\n"
          ]
        },
        {
          "name": "stdout",
          "output_type": "stream",
          "text": [
            "  Train loss: 0.06047871932387352\n",
            "  Eval loss: 0.14430646741619477\n",
            "\n",
            "Epoch 24\n"
          ]
        },
        {
          "name": "stderr",
          "output_type": "stream",
          "text": [
            "100%|██████████| 50/50 [00:04<00:00, 12.16it/s, Loss: 0.03582478687167168]\n"
          ]
        },
        {
          "name": "stdout",
          "output_type": "stream",
          "text": [
            "  Train loss: 0.059065860994160176\n",
            "  Eval loss: 0.05444358976987692\n",
            "\n",
            "Epoch 25\n"
          ]
        },
        {
          "name": "stderr",
          "output_type": "stream",
          "text": [
            "100%|██████████| 50/50 [00:04<00:00, 11.94it/s, Loss: 0.028543252497911453]\n"
          ]
        },
        {
          "name": "stdout",
          "output_type": "stream",
          "text": [
            "  Train loss: 0.06803877774626016\n",
            "  Eval loss: 0.06336840270803525\n",
            "\n",
            "Epoch 26\n"
          ]
        },
        {
          "name": "stderr",
          "output_type": "stream",
          "text": [
            "100%|██████████| 50/50 [00:04<00:00, 12.02it/s, Loss: 0.07836463302373886]\n"
          ]
        },
        {
          "name": "stdout",
          "output_type": "stream",
          "text": [
            "  Train loss: 0.06298263672739267\n",
            "  Eval loss: 0.07099680803143062\n",
            "\n",
            "Epoch 27\n"
          ]
        },
        {
          "name": "stderr",
          "output_type": "stream",
          "text": [
            "100%|██████████| 50/50 [00:04<00:00, 12.15it/s, Loss: 0.07519644498825073]\n"
          ]
        },
        {
          "name": "stdout",
          "output_type": "stream",
          "text": [
            "  Train loss: 0.05998222716152668\n",
            "  Eval loss: 0.060863830435734526\n",
            "\n",
            "Epoch 28\n"
          ]
        },
        {
          "name": "stderr",
          "output_type": "stream",
          "text": [
            "100%|██████████| 50/50 [00:04<00:00, 11.88it/s, Loss: 0.1347123235464096]\n"
          ]
        },
        {
          "name": "stdout",
          "output_type": "stream",
          "text": [
            "  Train loss: 0.06225472316145897\n",
            "  Eval loss: 0.1061716561134045\n",
            "\n",
            "Epoch 29\n"
          ]
        },
        {
          "name": "stderr",
          "output_type": "stream",
          "text": [
            "100%|██████████| 50/50 [00:04<00:00, 12.02it/s, Loss: 0.0650484710931778]\n"
          ]
        },
        {
          "name": "stdout",
          "output_type": "stream",
          "text": [
            "  Train loss: 0.05456104673445225\n",
            "  Eval loss: 0.3319969108471504\n",
            "\n",
            "Epoch 30\n"
          ]
        },
        {
          "name": "stderr",
          "output_type": "stream",
          "text": [
            "100%|██████████| 50/50 [00:04<00:00, 11.88it/s, Loss: 0.09661978483200073]\n"
          ]
        },
        {
          "name": "stdout",
          "output_type": "stream",
          "text": [
            "  Train loss: 0.0607309490069747\n",
            "  Eval loss: 0.05329034004646998\n",
            "\n",
            "Epoch 31\n"
          ]
        },
        {
          "name": "stderr",
          "output_type": "stream",
          "text": [
            "100%|██████████| 50/50 [00:04<00:00, 11.91it/s, Loss: 0.10561878234148026]\n"
          ]
        },
        {
          "name": "stdout",
          "output_type": "stream",
          "text": [
            "  Train loss: 0.05578582903370261\n",
            "  Eval loss: 0.04924165901656334\n",
            "\n",
            "Epoch 32\n"
          ]
        },
        {
          "name": "stderr",
          "output_type": "stream",
          "text": [
            "100%|██████████| 50/50 [00:04<00:00, 12.11it/s, Loss: 0.03985291346907616]\n"
          ]
        },
        {
          "name": "stdout",
          "output_type": "stream",
          "text": [
            "  Train loss: 0.05980994969606399\n",
            "  Eval loss: 0.1470355592094935\n",
            "\n",
            "Epoch 33\n"
          ]
        },
        {
          "name": "stderr",
          "output_type": "stream",
          "text": [
            "100%|██████████| 50/50 [00:04<00:00, 11.84it/s, Loss: 0.04482963681221008]\n"
          ]
        },
        {
          "name": "stdout",
          "output_type": "stream",
          "text": [
            "  Train loss: 0.05666398398578167\n",
            "  Eval loss: 0.0585412487674218\n",
            "\n",
            "Epoch 34\n"
          ]
        },
        {
          "name": "stderr",
          "output_type": "stream",
          "text": [
            "100%|██████████| 50/50 [00:04<00:00, 12.11it/s, Loss: 0.019426576793193817]\n"
          ]
        },
        {
          "name": "stdout",
          "output_type": "stream",
          "text": [
            "  Train loss: 0.058902172073721885\n",
            "  Eval loss: 0.06117232459095808\n",
            "\n",
            "Epoch 35\n"
          ]
        },
        {
          "name": "stderr",
          "output_type": "stream",
          "text": [
            "100%|██████████| 50/50 [00:04<00:00, 12.22it/s, Loss: 0.044081151485443115]\n"
          ]
        },
        {
          "name": "stdout",
          "output_type": "stream",
          "text": [
            "  Train loss: 0.054903394691646096\n",
            "  Eval loss: 0.1514012057047624\n",
            "\n",
            "Epoch 36\n"
          ]
        },
        {
          "name": "stderr",
          "output_type": "stream",
          "text": [
            "100%|██████████| 50/50 [00:04<00:00, 11.92it/s, Loss: 0.047160554677248]\n"
          ]
        },
        {
          "name": "stdout",
          "output_type": "stream",
          "text": [
            "  Train loss: 0.053275990933179855\n",
            "  Eval loss: 0.10258386255456851\n",
            "\n",
            "Epoch 37\n"
          ]
        },
        {
          "name": "stderr",
          "output_type": "stream",
          "text": [
            "100%|██████████| 50/50 [00:04<00:00, 12.07it/s, Loss: 0.061850614845752716]\n"
          ]
        },
        {
          "name": "stdout",
          "output_type": "stream",
          "text": [
            "  Train loss: 0.06120364248752594\n",
            "  Eval loss: 0.3104467254418593\n",
            "\n",
            "Epoch 38\n"
          ]
        },
        {
          "name": "stderr",
          "output_type": "stream",
          "text": [
            "100%|██████████| 50/50 [00:04<00:00, 12.07it/s, Loss: 0.05186093598604202]\n"
          ]
        },
        {
          "name": "stdout",
          "output_type": "stream",
          "text": [
            "  Train loss: 0.05422890331596136\n",
            "  Eval loss: 0.07869204219717246\n",
            "\n",
            "Epoch 39\n"
          ]
        },
        {
          "name": "stderr",
          "output_type": "stream",
          "text": [
            "100%|██████████| 50/50 [00:04<00:00, 12.10it/s, Loss: 0.057096224278211594]\n"
          ]
        },
        {
          "name": "stdout",
          "output_type": "stream",
          "text": [
            "  Train loss: 0.05805411390960216\n",
            "  Eval loss: 0.06569846175037898\n",
            "\n",
            "Epoch 40\n"
          ]
        },
        {
          "name": "stderr",
          "output_type": "stream",
          "text": [
            "100%|██████████| 50/50 [00:04<00:00, 12.06it/s, Loss: 0.06487929075956345]\n"
          ]
        },
        {
          "name": "stdout",
          "output_type": "stream",
          "text": [
            "  Train loss: 0.05623913902789354\n",
            "  Eval loss: 0.09389839550623527\n",
            "\n",
            "Epoch 41\n"
          ]
        },
        {
          "name": "stderr",
          "output_type": "stream",
          "text": [
            "100%|██████████| 50/50 [00:04<00:00, 11.77it/s, Loss: 0.042071375995874405]\n"
          ]
        },
        {
          "name": "stdout",
          "output_type": "stream",
          "text": [
            "  Train loss: 0.05379408240318298\n",
            "  Eval loss: 0.0621114714214435\n",
            "\n",
            "Epoch 42\n"
          ]
        },
        {
          "name": "stderr",
          "output_type": "stream",
          "text": [
            "100%|██████████| 50/50 [00:04<00:00, 12.00it/s, Loss: 0.10191808640956879]\n"
          ]
        },
        {
          "name": "stdout",
          "output_type": "stream",
          "text": [
            "  Train loss: 0.05638916190713644\n",
            "  Eval loss: 0.05745430032794292\n",
            "\n",
            "Epoch 43\n"
          ]
        },
        {
          "name": "stderr",
          "output_type": "stream",
          "text": [
            "100%|██████████| 50/50 [00:04<00:00, 11.91it/s, Loss: 0.02580544725060463]\n"
          ]
        },
        {
          "name": "stdout",
          "output_type": "stream",
          "text": [
            "  Train loss: 0.059956233613193036\n",
            "  Eval loss: 0.11527574721437234\n",
            "\n",
            "Epoch 44\n"
          ]
        },
        {
          "name": "stderr",
          "output_type": "stream",
          "text": [
            "100%|██████████| 50/50 [00:04<00:00, 11.85it/s, Loss: 0.045069724321365356]\n"
          ]
        },
        {
          "name": "stdout",
          "output_type": "stream",
          "text": [
            "  Train loss: 0.05488177761435509\n",
            "  Eval loss: 0.28605837661486405\n",
            "\n",
            "Epoch 45\n"
          ]
        },
        {
          "name": "stderr",
          "output_type": "stream",
          "text": [
            "100%|██████████| 50/50 [00:04<00:00, 11.96it/s, Loss: 0.038468509912490845]\n"
          ]
        },
        {
          "name": "stdout",
          "output_type": "stream",
          "text": [
            "  Train loss: 0.05662586763501167\n",
            "  Eval loss: 0.255159437083281\n",
            "\n",
            "Epoch 46\n"
          ]
        },
        {
          "name": "stderr",
          "output_type": "stream",
          "text": [
            "100%|██████████| 50/50 [00:04<00:00, 12.07it/s, Loss: 0.03577224910259247]\n"
          ]
        },
        {
          "name": "stdout",
          "output_type": "stream",
          "text": [
            "  Train loss: 0.0591502158343792\n",
            "  Eval loss: 0.12044385591378579\n",
            "\n",
            "Epoch 47\n"
          ]
        },
        {
          "name": "stderr",
          "output_type": "stream",
          "text": [
            "100%|██████████| 50/50 [00:04<00:00, 12.00it/s, Loss: 0.0573364682495594]\n"
          ]
        },
        {
          "name": "stdout",
          "output_type": "stream",
          "text": [
            "  Train loss: 0.05697393923997879\n",
            "  Eval loss: 0.1449292697585546\n",
            "\n",
            "Epoch 48\n"
          ]
        },
        {
          "name": "stderr",
          "output_type": "stream",
          "text": [
            "100%|██████████| 50/50 [00:04<00:00, 11.94it/s, Loss: 0.06228351220488548]\n"
          ]
        },
        {
          "name": "stdout",
          "output_type": "stream",
          "text": [
            "  Train loss: 0.05536668010056019\n",
            "  Eval loss: 0.09673124895646022\n",
            "\n",
            "Epoch 49\n"
          ]
        },
        {
          "name": "stderr",
          "output_type": "stream",
          "text": [
            "100%|██████████| 50/50 [00:04<00:00, 11.82it/s, Loss: 0.05491656810045242]\n"
          ]
        },
        {
          "name": "stdout",
          "output_type": "stream",
          "text": [
            "  Train loss: 0.05900761473923922\n",
            "  Eval loss: 0.16024444051660025\n",
            "\n"
          ]
        }
      ],
      "source": [
        "loss = run_epochs(\n",
        "    epochs, mlp_model,\n",
        "    mse_loss, adam_opt,\n",
        "    train_loader, test_loader,\n",
        "    gpu_avail\n",
        ")\n",
        "\n",
        "global_loss['train'].extend(loss['train'])\n",
        "global_loss['eval'].extend(loss['eval'])"
      ]
    },
    {
      "cell_type": "code",
      "execution_count": 26,
      "id": "D5LvoeZOQb74",
      "metadata": {
        "colab": {
          "base_uri": "https://localhost:8080/",
          "height": 472
        },
        "id": "D5LvoeZOQb74",
        "outputId": "9410f4fb-b336-433b-b18f-5c6270547d44"
      },
      "outputs": [
        {
          "data": {
            "image/png": "[encoded data removed]",
            "text/plain": [
              "<Figure size 640x480 with 1 Axes>"
            ]
          },
          "metadata": {},
          "output_type": "display_data"
        }
      ],
      "source": [
        "import matplotlib.pyplot as plt\n",
        "\n",
        "plt.title('Learning rate: 1e-5')\n",
        "plt.plot([sum(loss) / len(loss) for loss in global_loss['train']], label='train')\n",
        "plt.plot([sum(loss) / len(loss) for loss in global_loss['eval']], label='eval')\n",
        "plt.xlabel('Epoch')\n",
        "plt.ylabel('MSE Loss')\n",
        "plt.legend();"
      ]
    },
    {
      "cell_type": "code",
      "execution_count": null,
      "id": "n7iUzKyUDfZZ",
      "metadata": {
        "id": "n7iUzKyUDfZZ"
      },
      "outputs": [],
      "source": [
        "checkpoint = {\n",
        "    'model': mlp_model.state_dict(),\n",
        "    'optimizer': adam_opt.state_dict(),\n",
        "    'loss': global_loss,\n",
        "    'batch_size': batch_size,\n",
        "    'lr': 1e-5\n",
        "}\n",
        "\n",
        "torch.save(checkpoint, '../model_cehckpoints/mlp_model_cp3.tar')"
      ]
    }
  ],
  "metadata": {
    "accelerator": "GPU",
    "colab": {
      "collapsed_sections": [
        "B1A2UGlv0PZY"
      ],
      "gpuType": "T4",
      "provenance": []
    },
    "kernelspec": {
      "display_name": "Python 3",
      "name": "python3"
    },
    "language_info": {
      "codemirror_mode": {
        "name": "ipython",
        "version": 3
      },
      "file_extension": ".py",
      "mimetype": "text/x-python",
      "name": "python",
      "nbconvert_exporter": "python",
      "pygments_lexer": "ipython3",
      "version": "3.13.2"
    }
  },
  "nbformat": 4,
  "nbformat_minor": 5
}
