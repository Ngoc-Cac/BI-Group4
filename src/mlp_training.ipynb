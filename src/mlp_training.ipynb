{
  "cells": [
    {
      "cell_type": "code",
      "execution_count": null,
      "id": "f49c9a1a",
      "metadata": {
        "colab": {
          "base_uri": "https://localhost:8080/"
        },
        "id": "f49c9a1a",
        "outputId": "d6e02624-ca80-4e4b-e1c3-c063db274f36"
      },
      "outputs": [
        {
          "data": {
            "text/plain": [
              "<torch._C.Generator at 0x7b77b05fa2f0>"
            ]
          },
          "execution_count": 1,
          "metadata": {},
          "output_type": "execute_result"
        }
      ],
      "source": [
        "import torch\n",
        "import pandas as pd\n",
        "\n",
        "from torch import nn\n",
        "from torch.utils.data import DataLoader\n",
        "\n",
        "from utils.dataset import MovieDataset\n",
        "from utils.models import MLPClassifier\n",
        "\n",
        "\n",
        "torch.manual_seed(4)"
      ]
    },
    {
      "cell_type": "markdown",
      "id": "PL7en16R0M1A",
      "metadata": {
        "id": "PL7en16R0M1A"
      },
      "source": [
        "# Set up"
      ]
    },
    {
      "cell_type": "code",
      "execution_count": null,
      "id": "90f53d61",
      "metadata": {
        "id": "90f53d61"
      },
      "outputs": [],
      "source": [
        "from utils.loops import train_loop, eval_loop\n",
        "\n",
        "def run_epochs(\n",
        "    epochs: int,\n",
        "    model, loss_fn,\n",
        "    optimizer, train_loader,\n",
        "    test_loader,\n",
        "    use_gpu: bool = False\n",
        "):\n",
        "    epoch_loss = {\n",
        "        'train': [],\n",
        "        'test': []\n",
        "    }\n",
        "    for epoch in range(epochs):\n",
        "        print(f\"Epoch {epoch}\")\n",
        "        losses = train_loop(model, loss_fn,\n",
        "            optimizer, train_loader,\n",
        "            use_gpu\n",
        "        )\n",
        "\n",
        "        print(f\"  Train loss: {sum(losses) / len(losses)}\")\n",
        "        eval_losses = eval_loop(model,\n",
        "            loss_fn, test_loader,\n",
        "            use_gpu\n",
        "        )\n",
        "\n",
        "        print(f\"  Eval loss: {sum(eval_losses) / len(eval_losses)}\\n\")\n",
        "\n",
        "        epoch_loss['train'].append(losses)\n",
        "        epoch_loss['eval'].append(eval_losses)\n",
        "    return epoch_loss"
      ]
    },
    {
      "cell_type": "markdown",
      "id": "B1A2UGlv0PZY",
      "metadata": {
        "id": "B1A2UGlv0PZY"
      },
      "source": [
        "# Load Data and model"
      ]
    },
    {
      "cell_type": "code",
      "execution_count": null,
      "id": "bba23353",
      "metadata": {
        "id": "bba23353"
      },
      "outputs": [],
      "source": [
        "dfs = [\n",
        "    pd.read_csv('train_data.csv', index_col=0),\n",
        "    pd.read_csv('test_data.csv', index_col=0),\n",
        "]\n",
        "\n",
        "train_data = MovieDataset(dfs[0])\n",
        "test_data = MovieDataset(dfs[1])"
      ]
    },
    {
      "cell_type": "code",
      "execution_count": 58,
      "id": "TEl4hg7u0bij",
      "metadata": {
        "id": "TEl4hg7u0bij"
      },
      "outputs": [],
      "source": [
        "batch_size = 16\n",
        "\n",
        "train_loader = DataLoader(train_data, batch_size=batch_size, shuffle=True)\n",
        "test_loader = DataLoader(test_data, batch_size=batch_size, shuffle=True)"
      ]
    },
    {
      "cell_type": "code",
      "execution_count": null,
      "id": "JjsTe4Cc0qdO",
      "metadata": {
        "id": "JjsTe4Cc0qdO"
      },
      "outputs": [],
      "source": [
        "mlp_model = MLPClassifier()\n",
        "mse_loss = nn.MSELoss()\n",
        "adam_opt = torch.optim.Adam(mlp_model.parameters(), lr=1e-5)"
      ]
    },
    {
      "cell_type": "markdown",
      "id": "RgW3Gbf20wke",
      "metadata": {
        "id": "RgW3Gbf20wke"
      },
      "source": [
        "# Training"
      ]
    },
    {
      "cell_type": "code",
      "execution_count": null,
      "id": "Z7YAr3SI2EEi",
      "metadata": {
        "id": "Z7YAr3SI2EEi"
      },
      "outputs": [],
      "source": [
        "epochs = 20\n",
        "global_loss = {\n",
        "    'train': [],\n",
        "    'eval': []\n",
        "}\n",
        "gpu_avail = torch.cuda.is_available()\n",
        "if gpu_avail: mlp_model.cuda()"
      ]
    },
    {
      "cell_type": "code",
      "execution_count": null,
      "id": "7d11_x9t0xqY",
      "metadata": {
        "colab": {
          "base_uri": "https://localhost:8080/"
        },
        "id": "7d11_x9t0xqY",
        "outputId": "18b42f5c-0615-4fe6-b4c8-f50e8cfa69dd"
      },
      "outputs": [
        {
          "name": "stdout",
          "output_type": "stream",
          "text": [
            "Epoch 0\n"
          ]
        },
        {
          "name": "stderr",
          "output_type": "stream",
          "text": [
            "100%|██████████| 50/50 [00:03<00:00, 12.72it/s, Loss: 0.05791902914643288]\n"
          ]
        },
        {
          "name": "stdout",
          "output_type": "stream",
          "text": [
            "  Train loss: 0.05922633696347475\n",
            "  Eval loss: 0.0971522256731987\n",
            "\n",
            "Epoch 1\n"
          ]
        },
        {
          "name": "stderr",
          "output_type": "stream",
          "text": [
            "100%|██████████| 50/50 [00:04<00:00, 11.80it/s, Loss: 0.04161415994167328]\n"
          ]
        },
        {
          "name": "stdout",
          "output_type": "stream",
          "text": [
            "  Train loss: 0.051206188313663005\n",
            "  Eval loss: 0.0890283862558695\n",
            "\n",
            "Epoch 2\n"
          ]
        },
        {
          "name": "stderr",
          "output_type": "stream",
          "text": [
            "100%|██████████| 50/50 [00:04<00:00, 11.84it/s, Loss: 0.06737349927425385]\n"
          ]
        },
        {
          "name": "stdout",
          "output_type": "stream",
          "text": [
            "  Train loss: 0.051682139486074447\n",
            "  Eval loss: 0.11606274745785274\n",
            "\n",
            "Epoch 3\n"
          ]
        },
        {
          "name": "stderr",
          "output_type": "stream",
          "text": [
            "100%|██████████| 50/50 [00:04<00:00, 12.41it/s, Loss: 0.06589587032794952]\n"
          ]
        },
        {
          "name": "stdout",
          "output_type": "stream",
          "text": [
            "  Train loss: 0.05441125486046076\n",
            "  Eval loss: 0.2825191164245972\n",
            "\n",
            "Epoch 4\n"
          ]
        },
        {
          "name": "stderr",
          "output_type": "stream",
          "text": [
            "100%|██████████| 50/50 [00:04<00:00, 12.33it/s, Loss: 0.037248462438583374]\n"
          ]
        },
        {
          "name": "stdout",
          "output_type": "stream",
          "text": [
            "  Train loss: 0.05869017072021961\n",
            "  Eval loss: 0.5485625897462552\n",
            "\n",
            "Epoch 5\n"
          ]
        },
        {
          "name": "stderr",
          "output_type": "stream",
          "text": [
            "100%|██████████| 50/50 [00:04<00:00, 12.31it/s, Loss: 0.035410813987255096]\n"
          ]
        },
        {
          "name": "stdout",
          "output_type": "stream",
          "text": [
            "  Train loss: 0.053876272924244406\n",
            "  Eval loss: 0.15613131798230684\n",
            "\n",
            "Epoch 6\n"
          ]
        },
        {
          "name": "stderr",
          "output_type": "stream",
          "text": [
            "100%|██████████| 50/50 [00:04<00:00, 12.37it/s, Loss: 0.032966382801532745]\n"
          ]
        },
        {
          "name": "stdout",
          "output_type": "stream",
          "text": [
            "  Train loss: 0.052182931788265705\n",
            "  Eval loss: 0.07261960237072064\n",
            "\n",
            "Epoch 7\n"
          ]
        },
        {
          "name": "stderr",
          "output_type": "stream",
          "text": [
            "100%|██████████| 50/50 [00:04<00:00, 12.24it/s, Loss: 0.04435117542743683]\n"
          ]
        },
        {
          "name": "stdout",
          "output_type": "stream",
          "text": [
            "  Train loss: 0.047140617184340955\n",
            "  Eval loss: 1.6669545540442834\n",
            "\n",
            "Epoch 8\n"
          ]
        },
        {
          "name": "stderr",
          "output_type": "stream",
          "text": [
            "100%|██████████| 50/50 [00:04<00:00, 12.43it/s, Loss: 0.05692519620060921]\n"
          ]
        },
        {
          "name": "stdout",
          "output_type": "stream",
          "text": [
            "  Train loss: 0.05311512790620327\n",
            "  Eval loss: 0.79556837448707\n",
            "\n",
            "Epoch 9\n"
          ]
        },
        {
          "name": "stderr",
          "output_type": "stream",
          "text": [
            "100%|██████████| 50/50 [00:04<00:00, 12.28it/s, Loss: 0.045361824333667755]\n"
          ]
        },
        {
          "name": "stdout",
          "output_type": "stream",
          "text": [
            "  Train loss: 0.0493823429569602\n",
            "  Eval loss: 0.19666371637812027\n",
            "\n",
            "Epoch 10\n"
          ]
        },
        {
          "name": "stderr",
          "output_type": "stream",
          "text": [
            "100%|██████████| 50/50 [00:04<00:00, 12.41it/s, Loss: 0.04520949348807335]\n"
          ]
        },
        {
          "name": "stdout",
          "output_type": "stream",
          "text": [
            "  Train loss: 0.0486257765814662\n",
            "  Eval loss: 0.31681790804633725\n",
            "\n",
            "Epoch 11\n"
          ]
        },
        {
          "name": "stderr",
          "output_type": "stream",
          "text": [
            "100%|██████████| 50/50 [00:03<00:00, 12.64it/s, Loss: 0.03965311497449875]\n"
          ]
        },
        {
          "name": "stdout",
          "output_type": "stream",
          "text": [
            "  Train loss: 0.05314882278442383\n",
            "  Eval loss: 0.32301367446780205\n",
            "\n",
            "Epoch 12\n"
          ]
        },
        {
          "name": "stderr",
          "output_type": "stream",
          "text": [
            "100%|██████████| 50/50 [00:04<00:00, 12.41it/s, Loss: 0.04637414962053299]\n"
          ]
        },
        {
          "name": "stdout",
          "output_type": "stream",
          "text": [
            "  Train loss: 0.06760462190955878\n",
            "  Eval loss: 0.3447044271116073\n",
            "\n",
            "Epoch 13\n"
          ]
        },
        {
          "name": "stderr",
          "output_type": "stream",
          "text": [
            "100%|██████████| 50/50 [00:03<00:00, 12.62it/s, Loss: 0.03018706664443016]\n"
          ]
        },
        {
          "name": "stdout",
          "output_type": "stream",
          "text": [
            "  Train loss: 0.0557045017182827\n",
            "  Eval loss: 0.06899162267263119\n",
            "\n",
            "Epoch 14\n"
          ]
        },
        {
          "name": "stderr",
          "output_type": "stream",
          "text": [
            "100%|██████████| 50/50 [00:03<00:00, 12.84it/s, Loss: 0.04929801821708679]\n"
          ]
        },
        {
          "name": "stdout",
          "output_type": "stream",
          "text": [
            "  Train loss: 0.05780893556773663\n",
            "  Eval loss: 0.12177902918595535\n",
            "\n",
            "Epoch 15\n"
          ]
        },
        {
          "name": "stderr",
          "output_type": "stream",
          "text": [
            "100%|██████████| 50/50 [00:03<00:00, 12.60it/s, Loss: 0.05510270223021507]\n"
          ]
        },
        {
          "name": "stdout",
          "output_type": "stream",
          "text": [
            "  Train loss: 0.059563496857881544\n",
            "  Eval loss: 0.13807775710637754\n",
            "\n",
            "Epoch 16\n"
          ]
        },
        {
          "name": "stderr",
          "output_type": "stream",
          "text": [
            "100%|██████████| 50/50 [00:03<00:00, 12.65it/s, Loss: 0.08107000589370728]\n"
          ]
        },
        {
          "name": "stdout",
          "output_type": "stream",
          "text": [
            "  Train loss: 0.05631486412137747\n",
            "  Eval loss: 0.11892149282189515\n",
            "\n",
            "Epoch 17\n"
          ]
        },
        {
          "name": "stderr",
          "output_type": "stream",
          "text": [
            "100%|██████████| 50/50 [00:03<00:00, 12.86it/s, Loss: 0.059022340923547745]\n"
          ]
        },
        {
          "name": "stdout",
          "output_type": "stream",
          "text": [
            "  Train loss: 0.05304797999560833\n",
            "  Eval loss: 0.06750863704543847\n",
            "\n",
            "Epoch 18\n"
          ]
        },
        {
          "name": "stderr",
          "output_type": "stream",
          "text": [
            "100%|██████████| 50/50 [00:03<00:00, 12.58it/s, Loss: 0.031844764947891235]\n"
          ]
        },
        {
          "name": "stdout",
          "output_type": "stream",
          "text": [
            "  Train loss: 0.04970810752362013\n",
            "  Eval loss: 0.12731153517961502\n",
            "\n",
            "Epoch 19\n"
          ]
        },
        {
          "name": "stderr",
          "output_type": "stream",
          "text": [
            "100%|██████████| 50/50 [00:03<00:00, 12.58it/s, Loss: 0.07485102117061615]\n"
          ]
        },
        {
          "name": "stdout",
          "output_type": "stream",
          "text": [
            "  Train loss: 0.053132990896701815\n",
            "  Eval loss: 0.2237832981806535\n",
            "\n",
            "Epoch 20\n"
          ]
        },
        {
          "name": "stderr",
          "output_type": "stream",
          "text": [
            "100%|██████████| 50/50 [00:03<00:00, 12.59it/s, Loss: 0.037346094846725464]\n"
          ]
        },
        {
          "name": "stdout",
          "output_type": "stream",
          "text": [
            "  Train loss: 0.04983319718390703\n",
            "  Eval loss: 0.14793872489379004\n",
            "\n",
            "Epoch 21\n"
          ]
        },
        {
          "name": "stderr",
          "output_type": "stream",
          "text": [
            "100%|██████████| 50/50 [00:03<00:00, 12.56it/s, Loss: 0.0292494036257267]\n"
          ]
        },
        {
          "name": "stdout",
          "output_type": "stream",
          "text": [
            "  Train loss: 0.04808240529149771\n",
            "  Eval loss: 0.19773325209434217\n",
            "\n",
            "Epoch 22\n"
          ]
        },
        {
          "name": "stderr",
          "output_type": "stream",
          "text": [
            "100%|██████████| 50/50 [00:03<00:00, 12.57it/s, Loss: 0.02994457259774208]\n"
          ]
        },
        {
          "name": "stdout",
          "output_type": "stream",
          "text": [
            "  Train loss: 0.046219128165394065\n",
            "  Eval loss: 0.15526129419987017\n",
            "\n",
            "Epoch 23\n"
          ]
        },
        {
          "name": "stderr",
          "output_type": "stream",
          "text": [
            "100%|██████████| 50/50 [00:04<00:00, 12.33it/s, Loss: 0.046864066272974014]\n"
          ]
        },
        {
          "name": "stdout",
          "output_type": "stream",
          "text": [
            "  Train loss: 0.049704563207924365\n",
            "  Eval loss: 0.1918331923393103\n",
            "\n",
            "Epoch 24\n"
          ]
        },
        {
          "name": "stderr",
          "output_type": "stream",
          "text": [
            "100%|██████████| 50/50 [00:03<00:00, 12.71it/s, Loss: 0.03620938956737518]\n"
          ]
        },
        {
          "name": "stdout",
          "output_type": "stream",
          "text": [
            "  Train loss: 0.057710722796618937\n",
            "  Eval loss: 0.19848105332885796\n",
            "\n",
            "Epoch 25\n"
          ]
        },
        {
          "name": "stderr",
          "output_type": "stream",
          "text": [
            "100%|██████████| 50/50 [00:03<00:00, 12.61it/s, Loss: 0.053563810884952545]\n"
          ]
        },
        {
          "name": "stdout",
          "output_type": "stream",
          "text": [
            "  Train loss: 0.05712826965376735\n",
            "  Eval loss: 1.1920102273042386\n",
            "\n",
            "Epoch 26\n"
          ]
        },
        {
          "name": "stderr",
          "output_type": "stream",
          "text": [
            "100%|██████████| 50/50 [00:03<00:00, 12.52it/s, Loss: 0.11360074579715729]\n"
          ]
        },
        {
          "name": "stdout",
          "output_type": "stream",
          "text": [
            "  Train loss: 0.05651519495993853\n",
            "  Eval loss: 0.06318019330501556\n",
            "\n",
            "Epoch 27\n"
          ]
        },
        {
          "name": "stderr",
          "output_type": "stream",
          "text": [
            "100%|██████████| 50/50 [00:03<00:00, 12.50it/s, Loss: 0.03715922310948372]\n"
          ]
        },
        {
          "name": "stdout",
          "output_type": "stream",
          "text": [
            "  Train loss: 0.05821452111005783\n",
            "  Eval loss: 0.11855207784817769\n",
            "\n",
            "Epoch 28\n"
          ]
        },
        {
          "name": "stderr",
          "output_type": "stream",
          "text": [
            "100%|██████████| 50/50 [00:03<00:00, 12.60it/s, Loss: 0.04983263090252876]\n"
          ]
        },
        {
          "name": "stdout",
          "output_type": "stream",
          "text": [
            "  Train loss: 0.05319532759487629\n",
            "  Eval loss: 0.05885928625670763\n",
            "\n",
            "Epoch 29\n"
          ]
        },
        {
          "name": "stderr",
          "output_type": "stream",
          "text": [
            "100%|██████████| 50/50 [00:03<00:00, 12.54it/s, Loss: 0.0333014652132988]\n"
          ]
        },
        {
          "name": "stdout",
          "output_type": "stream",
          "text": [
            "  Train loss: 0.05482742793858051\n",
            "  Eval loss: 0.1264587898667042\n",
            "\n",
            "Epoch 30\n"
          ]
        },
        {
          "name": "stderr",
          "output_type": "stream",
          "text": [
            "100%|██████████| 50/50 [00:03<00:00, 12.67it/s, Loss: 0.12371525168418884]\n"
          ]
        },
        {
          "name": "stdout",
          "output_type": "stream",
          "text": [
            "  Train loss: 0.049695132691413166\n",
            "  Eval loss: 0.1560567505657673\n",
            "\n",
            "Epoch 31\n"
          ]
        },
        {
          "name": "stderr",
          "output_type": "stream",
          "text": [
            "100%|██████████| 50/50 [00:03<00:00, 12.66it/s, Loss: 0.061852872371673584]\n"
          ]
        },
        {
          "name": "stdout",
          "output_type": "stream",
          "text": [
            "  Train loss: 0.05209477379918098\n",
            "  Eval loss: 0.27296116145757526\n",
            "\n",
            "Epoch 32\n"
          ]
        },
        {
          "name": "stderr",
          "output_type": "stream",
          "text": [
            "100%|██████████| 50/50 [00:03<00:00, 12.54it/s, Loss: 0.032634809613227844]\n"
          ]
        },
        {
          "name": "stdout",
          "output_type": "stream",
          "text": [
            "  Train loss: 0.055302334278821946\n",
            "  Eval loss: 0.2237218962265895\n",
            "\n",
            "Epoch 33\n"
          ]
        },
        {
          "name": "stderr",
          "output_type": "stream",
          "text": [
            "100%|██████████| 50/50 [00:03<00:00, 12.51it/s, Loss: 0.038780421018600464]\n"
          ]
        },
        {
          "name": "stdout",
          "output_type": "stream",
          "text": [
            "  Train loss: 0.050404793806374075\n",
            "  Eval loss: 0.3145252214028285\n",
            "\n",
            "Epoch 34\n"
          ]
        },
        {
          "name": "stderr",
          "output_type": "stream",
          "text": [
            "100%|██████████| 50/50 [00:03<00:00, 12.66it/s, Loss: 0.04950909689068794]\n"
          ]
        },
        {
          "name": "stdout",
          "output_type": "stream",
          "text": [
            "  Train loss: 0.05254055213183165\n",
            "  Eval loss: 0.2818618244849719\n",
            "\n",
            "Epoch 35\n"
          ]
        },
        {
          "name": "stderr",
          "output_type": "stream",
          "text": [
            "100%|██████████| 50/50 [00:03<00:00, 12.72it/s, Loss: 0.07830491662025452]\n"
          ]
        },
        {
          "name": "stdout",
          "output_type": "stream",
          "text": [
            "  Train loss: 0.04783479243516922\n",
            "  Eval loss: 0.056504940470823876\n",
            "\n",
            "Epoch 36\n"
          ]
        },
        {
          "name": "stderr",
          "output_type": "stream",
          "text": [
            "100%|██████████| 50/50 [00:03<00:00, 12.75it/s, Loss: 0.03096720203757286]\n"
          ]
        },
        {
          "name": "stdout",
          "output_type": "stream",
          "text": [
            "  Train loss: 0.0518363532051444\n",
            "  Eval loss: 0.27644676657823414\n",
            "\n",
            "Epoch 37\n"
          ]
        },
        {
          "name": "stderr",
          "output_type": "stream",
          "text": [
            "100%|██████████| 50/50 [00:04<00:00, 12.48it/s, Loss: 0.036653026938438416]\n"
          ]
        },
        {
          "name": "stdout",
          "output_type": "stream",
          "text": [
            "  Train loss: 0.05069321006536484\n",
            "  Eval loss: 0.4072859493585733\n",
            "\n",
            "Epoch 38\n"
          ]
        },
        {
          "name": "stderr",
          "output_type": "stream",
          "text": [
            "100%|██████████| 50/50 [00:03<00:00, 12.68it/s, Loss: 0.04842793941497803]\n"
          ]
        },
        {
          "name": "stdout",
          "output_type": "stream",
          "text": [
            "  Train loss: 0.05460931673645973\n",
            "  Eval loss: 0.15844759746239737\n",
            "\n",
            "Epoch 39\n"
          ]
        },
        {
          "name": "stderr",
          "output_type": "stream",
          "text": [
            "100%|██████████| 50/50 [00:03<00:00, 12.59it/s, Loss: 0.028616830706596375]\n"
          ]
        },
        {
          "name": "stdout",
          "output_type": "stream",
          "text": [
            "  Train loss: 0.05161412332206965\n",
            "  Eval loss: 0.18756144465162203\n",
            "\n",
            "Epoch 40\n"
          ]
        },
        {
          "name": "stderr",
          "output_type": "stream",
          "text": [
            "100%|██████████| 50/50 [00:04<00:00, 12.39it/s, Loss: 0.02977430634200573]\n"
          ]
        },
        {
          "name": "stdout",
          "output_type": "stream",
          "text": [
            "  Train loss: 0.04869245462119579\n",
            "  Eval loss: 0.542723882656831\n",
            "\n",
            "Epoch 41\n"
          ]
        },
        {
          "name": "stderr",
          "output_type": "stream",
          "text": [
            "100%|██████████| 50/50 [00:03<00:00, 12.57it/s, Loss: 0.052469536662101746]\n"
          ]
        },
        {
          "name": "stdout",
          "output_type": "stream",
          "text": [
            "  Train loss: 0.0528347959369421\n",
            "  Eval loss: 1.0467040051634495\n",
            "\n",
            "Epoch 42\n"
          ]
        },
        {
          "name": "stderr",
          "output_type": "stream",
          "text": [
            "100%|██████████| 50/50 [00:03<00:00, 12.78it/s, Loss: 0.0410587303340435]\n"
          ]
        },
        {
          "name": "stdout",
          "output_type": "stream",
          "text": [
            "  Train loss: 0.05254897207021713\n",
            "  Eval loss: 0.41807825977985674\n",
            "\n",
            "Epoch 43\n"
          ]
        },
        {
          "name": "stderr",
          "output_type": "stream",
          "text": [
            "100%|██████████| 50/50 [00:04<00:00, 12.43it/s, Loss: 0.052539460361003876]\n"
          ]
        },
        {
          "name": "stdout",
          "output_type": "stream",
          "text": [
            "  Train loss: 0.04540610272437334\n",
            "  Eval loss: 0.060487651194517426\n",
            "\n",
            "Epoch 44\n"
          ]
        },
        {
          "name": "stderr",
          "output_type": "stream",
          "text": [
            "100%|██████████| 50/50 [00:03<00:00, 12.52it/s, Loss: 0.08323393017053604]\n"
          ]
        },
        {
          "name": "stdout",
          "output_type": "stream",
          "text": [
            "  Train loss: 0.057637127488851546\n",
            "  Eval loss: 0.4198265075683594\n",
            "\n",
            "Epoch 45\n"
          ]
        },
        {
          "name": "stderr",
          "output_type": "stream",
          "text": [
            "100%|██████████| 50/50 [00:04<00:00, 12.46it/s, Loss: 0.06156915798783302]\n"
          ]
        },
        {
          "name": "stdout",
          "output_type": "stream",
          "text": [
            "  Train loss: 0.0539953937754035\n",
            "  Eval loss: 0.06745453680363986\n",
            "\n",
            "Epoch 46\n"
          ]
        },
        {
          "name": "stderr",
          "output_type": "stream",
          "text": [
            "100%|██████████| 50/50 [00:03<00:00, 12.65it/s, Loss: 0.03892276808619499]\n"
          ]
        },
        {
          "name": "stdout",
          "output_type": "stream",
          "text": [
            "  Train loss: 0.054438514932990074\n",
            "  Eval loss: 0.06215668555635672\n",
            "\n",
            "Epoch 47\n"
          ]
        },
        {
          "name": "stderr",
          "output_type": "stream",
          "text": [
            "100%|██████████| 50/50 [00:03<00:00, 12.54it/s, Loss: 0.04878753051161766]\n"
          ]
        },
        {
          "name": "stdout",
          "output_type": "stream",
          "text": [
            "  Train loss: 0.0530010630749166\n",
            "  Eval loss: 0.19425605352108294\n",
            "\n",
            "Epoch 48\n"
          ]
        },
        {
          "name": "stderr",
          "output_type": "stream",
          "text": [
            "100%|██████████| 50/50 [00:03<00:00, 12.64it/s, Loss: 0.03393104672431946]\n"
          ]
        },
        {
          "name": "stdout",
          "output_type": "stream",
          "text": [
            "  Train loss: 0.04901263628154993\n",
            "  Eval loss: 0.09199158016305703\n",
            "\n",
            "Epoch 49\n"
          ]
        },
        {
          "name": "stderr",
          "output_type": "stream",
          "text": [
            "100%|██████████| 50/50 [00:03<00:00, 12.71it/s, Loss: 0.030931929126381874]\n"
          ]
        },
        {
          "name": "stdout",
          "output_type": "stream",
          "text": [
            "  Train loss: 0.047391015328466894\n",
            "  Eval loss: 0.5183733386489061\n",
            "\n",
            "Epoch 50\n"
          ]
        },
        {
          "name": "stderr",
          "output_type": "stream",
          "text": [
            "100%|██████████| 50/50 [00:03<00:00, 12.52it/s, Loss: 0.025292305275797844]\n"
          ]
        },
        {
          "name": "stdout",
          "output_type": "stream",
          "text": [
            "  Train loss: 0.0514209284260869\n",
            "  Eval loss: 0.36309206772309083\n",
            "\n",
            "Epoch 51\n"
          ]
        },
        {
          "name": "stderr",
          "output_type": "stream",
          "text": [
            "100%|██████████| 50/50 [00:04<00:00, 12.44it/s, Loss: 0.04928126931190491]\n"
          ]
        },
        {
          "name": "stdout",
          "output_type": "stream",
          "text": [
            "  Train loss: 0.04795862518250942\n",
            "  Eval loss: 0.467053173826291\n",
            "\n",
            "Epoch 52\n"
          ]
        },
        {
          "name": "stderr",
          "output_type": "stream",
          "text": [
            "100%|██████████| 50/50 [00:03<00:00, 12.50it/s, Loss: 0.040513891726732254]\n"
          ]
        },
        {
          "name": "stdout",
          "output_type": "stream",
          "text": [
            "  Train loss: 0.051468821074813605\n",
            "  Eval loss: 2.326124656658906\n",
            "\n",
            "Epoch 53\n"
          ]
        },
        {
          "name": "stderr",
          "output_type": "stream",
          "text": [
            "100%|██████████| 50/50 [00:03<00:00, 12.65it/s, Loss: 0.042820367962121964]\n"
          ]
        },
        {
          "name": "stdout",
          "output_type": "stream",
          "text": [
            "  Train loss: 0.04944216590374708\n",
            "  Eval loss: 0.1720911659873449\n",
            "\n",
            "Epoch 54\n"
          ]
        },
        {
          "name": "stderr",
          "output_type": "stream",
          "text": [
            "100%|██████████| 50/50 [00:03<00:00, 12.52it/s, Loss: 0.06273924559354782]\n"
          ]
        },
        {
          "name": "stdout",
          "output_type": "stream",
          "text": [
            "  Train loss: 0.056683434322476384\n",
            "  Eval loss: 0.05735681120019693\n",
            "\n",
            "Epoch 55\n"
          ]
        },
        {
          "name": "stderr",
          "output_type": "stream",
          "text": [
            "100%|██████████| 50/50 [00:03<00:00, 12.53it/s, Loss: 0.07259245216846466]\n"
          ]
        },
        {
          "name": "stdout",
          "output_type": "stream",
          "text": [
            "  Train loss: 0.053502888418734074\n",
            "  Eval loss: 0.3240988575495206\n",
            "\n",
            "Epoch 56\n"
          ]
        },
        {
          "name": "stderr",
          "output_type": "stream",
          "text": [
            "100%|██████████| 50/50 [00:03<00:00, 12.68it/s, Loss: 0.021833190694451332]\n"
          ]
        },
        {
          "name": "stdout",
          "output_type": "stream",
          "text": [
            "  Train loss: 0.051474751606583595\n",
            "  Eval loss: 0.6916989523630875\n",
            "\n",
            "Epoch 57\n"
          ]
        },
        {
          "name": "stderr",
          "output_type": "stream",
          "text": [
            "100%|██████████| 50/50 [00:04<00:00, 12.38it/s, Loss: 0.02823832258582115]\n"
          ]
        },
        {
          "name": "stdout",
          "output_type": "stream",
          "text": [
            "  Train loss: 0.0498049795627594\n",
            "  Eval loss: 0.11751764153058712\n",
            "\n",
            "Epoch 58\n"
          ]
        },
        {
          "name": "stderr",
          "output_type": "stream",
          "text": [
            "100%|██████████| 50/50 [00:03<00:00, 12.54it/s, Loss: 0.044482968747615814]\n"
          ]
        },
        {
          "name": "stdout",
          "output_type": "stream",
          "text": [
            "  Train loss: 0.05004047349095345\n",
            "  Eval loss: 0.051204559894708485\n",
            "\n",
            "Epoch 59\n"
          ]
        },
        {
          "name": "stderr",
          "output_type": "stream",
          "text": [
            "100%|██████████| 50/50 [00:03<00:00, 12.56it/s, Loss: 0.039322663098573685]\n"
          ]
        },
        {
          "name": "stdout",
          "output_type": "stream",
          "text": [
            "  Train loss: 0.04751454446464777\n",
            "  Eval loss: 0.3076833073909466\n",
            "\n"
          ]
        }
      ],
      "source": [
        "loss = run_epochs(\n",
        "    epochs, mlp_model,\n",
        "    mse_loss, adam_opt,\n",
        "    train_loader, test_loader,\n",
        "    gpu_avail\n",
        ")\n",
        "\n",
        "global_loss['train'].extend(loss['train'])\n",
        "global_loss['eval'].extend(loss['eval'])"
      ]
    },
    {
      "cell_type": "code",
      "execution_count": null,
      "id": "D5LvoeZOQb74",
      "metadata": {
        "colab": {
          "base_uri": "https://localhost:8080/",
          "height": 472
        },
        "id": "D5LvoeZOQb74",
        "outputId": "a7bd8884-3a79-4ac2-df5f-b282a61040a5"
      },
      "outputs": [
        {
          "data": {
            "image/png": "[encoded data removed]",
            "text/plain": [
              "<Figure size 640x480 with 1 Axes>"
            ]
          },
          "metadata": {},
          "output_type": "display_data"
        }
      ],
      "source": [
        "import matplotlib.pyplot as plt\n",
        "\n",
        "plt.title('Learning rate: 1e-5')\n",
        "plt.plot([sum(loss) / len(loss) for loss in global_loss['train']], label='train')\n",
        "plt.plot([sum(loss) / len(loss) for loss in global_loss['eval']], label='eval')\n",
        "plt.xlabel('Epoch')\n",
        "plt.ylabel('MSE Loss')\n",
        "plt.legend();"
      ]
    },
    {
      "cell_type": "code",
      "execution_count": null,
      "id": "n7iUzKyUDfZZ",
      "metadata": {
        "id": "n7iUzKyUDfZZ"
      },
      "outputs": [],
      "source": [
        "checkpoint = {\n",
        "    'model': mlp_model.state_dict(),\n",
        "    'optimizer': adam_opt.state_dict(),\n",
        "    'loss': global_loss,\n",
        "    'batch_size': batch_size,\n",
        "    'lr': 1e-5\n",
        "}\n",
        "\n",
        "torch.save(checkpoint, '../model_checkpoints/mlp_model_cp2.tar')"
      ]
    }
  ],
  "metadata": {
    "accelerator": "GPU",
    "colab": {
      "collapsed_sections": [
        "B1A2UGlv0PZY"
      ],
      "gpuType": "T4",
      "provenance": []
    },
    "kernelspec": {
      "display_name": "Python 3",
      "name": "python3"
    },
    "language_info": {
      "codemirror_mode": {
        "name": "ipython",
        "version": 3
      },
      "file_extension": ".py",
      "mimetype": "text/x-python",
      "name": "python",
      "nbconvert_exporter": "python",
      "pygments_lexer": "ipython3",
      "version": "3.13.2"
    }
  },
  "nbformat": 4,
  "nbformat_minor": 5
}
