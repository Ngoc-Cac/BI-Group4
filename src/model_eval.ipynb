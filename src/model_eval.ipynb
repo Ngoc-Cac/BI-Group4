{
  "cells": [
    {
      "cell_type": "code",
      "execution_count": 1,
      "id": "89118cb1",
      "metadata": {
        "id": "89118cb1"
      },
      "outputs": [],
      "source": [
        "import torch\n",
        "import pandas as pd\n",
        "\n",
        "from torch.utils.data import DataLoader\n",
        "from transformers import AutoModel, AutoTokenizer\n",
        "\n",
        "from utils.dataset import MovieDataset\n",
        "from utils.models import MLPClassifier"
      ]
    },
    {
      "cell_type": "markdown",
      "id": "c9fe01b5",
      "metadata": {},
      "source": [
        "# Set up"
      ]
    },
    {
      "cell_type": "code",
      "execution_count": null,
      "id": "6fecf953",
      "metadata": {
        "id": "6fecf953"
      },
      "outputs": [],
      "source": [
        "df = pd.concat([pd.read_csv('../dataset/train_data/test_data.csv', index_col=0),\n",
        "                pd.read_csv('../dataset/train_data/train_data.csv', index_col=0)], axis=0).sort_index()\n",
        "dataset = MovieDataset(df)"
      ]
    },
    {
      "cell_type": "code",
      "execution_count": null,
      "id": "9d30c1b4",
      "metadata": {
        "colab": {
          "base_uri": "https://localhost:8080/"
        },
        "id": "9d30c1b4",
        "outputId": "504016ca-388a-402b-eb6d-c9f1a7fc655d"
      },
      "outputs": [],
      "source": [
        "disbert_tokenizer = AutoTokenizer.from_pretrained('distilbert-base-cased')\n",
        "disbert = AutoModel.from_pretrained('distilbert-base-cased')\n",
        "disbert.eval()\n",
        "if torch.cuda.is_available():\n",
        "    disbert.cuda()"
      ]
    },
    {
      "cell_type": "code",
      "execution_count": null,
      "id": "ea0526be",
      "metadata": {
        "id": "ea0526be"
      },
      "outputs": [],
      "source": [
        "checkpoint = torch.load('../model_checkpoints/mlp_model_cp3.tar', map_location='cpu')\n",
        "\n",
        "mlp_model = MLPClassifier(768 + dataset[0][0].shape[0])\n",
        "mlp_model.load_state_dict(checkpoint['model'])\n",
        "mlp_model.eval()\n",
        "if torch.cuda.is_available():\n",
        "    mlp_model.cuda()"
      ]
    },
    {
      "cell_type": "markdown",
      "id": "5a0dede0",
      "metadata": {},
      "source": [
        "# Inference and save predictions"
      ]
    },
    {
      "cell_type": "code",
      "execution_count": 26,
      "id": "13fa03ff",
      "metadata": {
        "colab": {
          "base_uri": "https://localhost:8080/"
        },
        "id": "13fa03ff",
        "outputId": "d7f42641-a8d2-48af-c8a2-4ec1a639f9ad"
      },
      "outputs": [
        {
          "name": "stderr",
          "output_type": "stream",
          "text": [
            "100%|██████████| 2/2 [00:01<00:00,  1.04it/s]\n"
          ]
        }
      ],
      "source": [
        "from tqdm import tqdm\n",
        "\n",
        "predictions = []\n",
        "pbar = tqdm(DataLoader(dataset, 512, shuffle=False))\n",
        "with torch.no_grad():\n",
        "  for stats, descript, _ in pbar:\n",
        "      tokens = disbert_tokenizer(\n",
        "          descript, return_tensors='pt',\n",
        "          padding=True, truncation=True\n",
        "      )\n",
        "      if torch.cuda.is_available():\n",
        "          token_ids = tokens['input_ids'].cuda()\n",
        "          token_mask = tokens['attention_mask'].cuda()\n",
        "          stats = stats.cuda()\n",
        "      embeddings = disbert(token_ids, token_mask)['last_hidden_state'][:, 0, :]\n",
        "\n",
        "      predictions.append(\n",
        "          mlp_model(torch.concat([stats, embeddings], axis=1)).cpu().numpy()\n",
        "      )"
      ]
    },
    {
      "cell_type": "code",
      "execution_count": null,
      "id": "3d921280",
      "metadata": {
        "id": "3d921280"
      },
      "outputs": [],
      "source": [
        "import numpy as np\n",
        "\n",
        "df = pd.DataFrame(np.concat(predictions), columns=['predicted_rating'])\n",
        "df.to_csv('../dataset/predictions.csv', float_format=\"%.8f\")"
      ]
    }
  ],
  "metadata": {
    "accelerator": "GPU",
    "colab": {
      "gpuType": "T4",
      "provenance": []
    },
    "kernelspec": {
      "display_name": "Python 3",
      "name": "python3"
    },
    "language_info": {
      "codemirror_mode": {
        "name": "ipython",
        "version": 3
      },
      "file_extension": ".py",
      "mimetype": "text/x-python",
      "name": "python",
      "nbconvert_exporter": "python",
      "pygments_lexer": "ipython3",
      "version": "3.13.2"
    }
  },
  "nbformat": 4,
  "nbformat_minor": 5
}
